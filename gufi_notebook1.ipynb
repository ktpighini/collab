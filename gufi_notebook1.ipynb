{
 "cells": [
  {
   "cell_type": "markdown",
   "metadata": {},
   "source": [
    "#### GUFI Notebook 1\n",
    "\n",
    "- locate files\n",
    "- Find out what biases match to flats/science frames"
   ]
  },
  {
   "cell_type": "code",
   "execution_count": 22,
   "metadata": {},
   "outputs": [],
   "source": [
    "os.chdir('..')"
   ]
  },
  {
   "cell_type": "code",
   "execution_count": 23,
   "metadata": {},
   "outputs": [
    {
     "name": "stdout",
     "output_type": "stream",
     "text": [
      "/storage/VATT/GUFI_shakedown\r\n"
     ]
    }
   ],
   "source": [
    "!pwd"
   ]
  },
  {
   "cell_type": "code",
   "execution_count": 60,
   "metadata": {},
   "outputs": [
    {
     "name": "stdout",
     "output_type": "stream",
     "text": [
      "LP345\r\n"
     ]
    }
   ],
   "source": [
    "!ls science"
   ]
  },
  {
   "cell_type": "code",
   "execution_count": 33,
   "metadata": {},
   "outputs": [],
   "source": [
    "# load up modules (keep adding to these as we go along)\n",
    "\n",
    "import sys\n",
    "import os\n",
    "import numpy as np\n",
    "from astropy.io import fits\n",
    "import pandas as pd\n",
    "\n",
    "import matplotlib.pyplot as plt\n",
    "from astropy.visualization import astropy_mpl_style\n",
    "plt.style.use(astropy_mpl_style)\n",
    "\n",
    "from astropy.utils.data import get_pkg_data_filename\n",
    "from astropy.io import fits\n",
    "from astropy.io import fits as pyfits"
   ]
  },
  {
   "cell_type": "markdown",
   "metadata": {},
   "source": [
    "##### Locate files and find out relevanr informtion in header for settings"
   ]
  },
  {
   "cell_type": "code",
   "execution_count": 56,
   "metadata": {},
   "outputs": [],
   "source": [
    "# Step 1 - figure out what the settings are for the flats & science frames\n",
    "# these functions work together to query the relevant instrument parameters\n",
    "\n",
    "def get_data_on_files():\n",
    "    outptamp = []\n",
    "    preamp = []\n",
    "    readtime = []\n",
    "    filelist = []\n",
    "    print('Enter your path to biases:')  # uses an input for you to put in the absolute path to where the data is\n",
    "    path = input()                  # code then loops through list of what's there and extracts what settings\n",
    "    dir_list = os.listdir(path)          # the EM-CCD is at - we want to find rh\n",
    "    for this_file in dir_list:\n",
    "        filename = path + '/' + this_file\n",
    "        hdul = fits.open(filename)\n",
    "        filelist.append(this_file)\n",
    "        outptamp.append(str(hdul[0].header['OUTPTAMP']))\n",
    "        preamp.append(str(hdul[0].header['PREAMP']))\n",
    "        readtime.append(str(hdul[0].header['READTIME']))      \n",
    "\n",
    "                 \n",
    "    data = {'File':filelist, 'OUTPTAMP':outptamp, 'PREAMP':preamp, 'READTIME':readtime}   \n",
    "\n",
    "    df = pd.DataFrame(data)\n",
    "\n",
    "    print (df)\n",
    "      "
   ]
  },
  {
   "cell_type": "code",
   "execution_count": 57,
   "metadata": {},
   "outputs": [
    {
     "name": "stdout",
     "output_type": "stream",
     "text": [
      "Enter your path to biases:\n",
      "bias\n",
      "                  File              OUTPTAMP PREAMP READTIME\n",
      "0    masterbias_4.fits  Electron Multiplying    2.4    3e-06\n",
      "1   masterbias_13.fits          Conventional    1.0    3e-06\n",
      "2   masterbias_15.fits          Conventional    4.6    3e-06\n",
      "3   masterbias_10.fits          Conventional    1.0    1e-06\n",
      "4    masterbias_7.fits  Electron Multiplying    2.4    5e-06\n",
      "5    masterbias_9.fits  Electron Multiplying    2.4    1e-05\n",
      "6    masterbias_6.fits  Electron Multiplying    1.0    5e-06\n",
      "7    masterbias_2.fits  Electron Multiplying    4.6    1e-06\n",
      "8    masterbias_1.fits  Electron Multiplying    2.4    1e-06\n",
      "9   masterbias_12.fits          Conventional    4.6    1e-06\n",
      "10   masterbias_3.fits  Electron Multiplying    1.0    3e-06\n",
      "11  masterbias_11.fits          Conventional    2.4    1e-06\n",
      "12  masterbias_14.fits          Conventional    2.4    3e-06\n",
      "13   masterbias_0.fits  Electron Multiplying    1.0    1e-06\n",
      "14   masterbias_8.fits  Electron Multiplying    1.0    1e-05\n",
      "15   masterbias_5.fits  Electron Multiplying    4.6    3e-06\n"
     ]
    }
   ],
   "source": [
    "get_data_on_files()"
   ]
  },
  {
   "cell_type": "code",
   "execution_count": 61,
   "metadata": {},
   "outputs": [
    {
     "name": "stdout",
     "output_type": "stream",
     "text": [
      "Enter your path to biases:\n",
      "flat\n",
      "               File      OUTPTAMP PREAMP READTIME\n",
      "0  Flat_R__002.fits  Conventional    2.4    1e-06\n",
      "1  Flat_I__005.fits  Conventional    2.4    1e-06\n",
      "2  Flat_I__003.fits  Conventional    2.4    1e-06\n",
      "3  Flat_I__006.fits  Conventional    2.4    1e-06\n",
      "4  Flat_R__001.fits  Conventional    2.4    1e-06\n",
      "5  Flat_I__001.fits  Conventional    2.4    1e-06\n",
      "6  Flat_I__004.fits  Conventional    2.4    1e-06\n",
      "7  Flat_I__002.fits  Conventional    2.4    1e-06\n"
     ]
    }
   ],
   "source": [
    "get_data_on_files()"
   ]
  },
  {
   "cell_type": "code",
   "execution_count": 62,
   "metadata": {},
   "outputs": [
    {
     "name": "stdout",
     "output_type": "stream",
     "text": [
      "Enter your path to biases:\n",
      "science/LP345\n",
      "              File      OUTPTAMP PREAMP READTIME\n",
      "0  LP349__003.fits  Conventional    2.4    1e-06\n",
      "1  LP349__002.fits  Conventional    2.4    1e-06\n",
      "2  LP349__001.fits  Conventional    2.4    1e-06\n",
      "3  LP349__004.fits  Conventional    2.4    1e-06\n"
     ]
    }
   ],
   "source": [
    "get_data_on_files()"
   ]
  },
  {
   "cell_type": "code",
   "execution_count": null,
   "metadata": {},
   "outputs": [],
   "source": []
  }
 ],
 "metadata": {
  "kernelspec": {
   "display_name": "Python 3",
   "language": "python",
   "name": "python3"
  },
  "language_info": {
   "codemirror_mode": {
    "name": "ipython",
    "version": 3
   },
   "file_extension": ".py",
   "mimetype": "text/x-python",
   "name": "python",
   "nbconvert_exporter": "python",
   "pygments_lexer": "ipython3",
   "version": "3.6.10"
  }
 },
 "nbformat": 4,
 "nbformat_minor": 2
}
